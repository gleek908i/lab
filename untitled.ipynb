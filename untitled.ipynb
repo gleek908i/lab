import matplotlib.pyplot as plt
import requests
import numpy as np
import math


def line_notify(message):
    line_notify_token = 'akHLNAuC8XmSHLXRuOMChlMe3FpfmU2E8KoWXzf21wL'
    line_notify_api = 'https://notify-api.line.me/api/notify'
    payload = {'message': message}
    headers = {'Authorization': 'Bearer ' + line_notify_token}
    requests.post(line_notify_api, data=payload, headers=headers)


eachMinutes = np.zeros(10)
index = np.zeros(10)
standard_signal = np.zeros((60, 12))    # 分情報の理論値
noise_signal = np.zeros((60, 12))   # ノイズ
a = [0] * 60
cF = np.zeros((60, 61))  # 相関関数
cC = np.zeros(60) # 相関演算の結果
tmp = 0
std_dev = 0.0  #標準偏差
Error = 0   # 相関演算した時の誤り数
# aaError = 0     # 相関演算していない時の誤り数
dfResult = []
CNR = []
BER = np.zeros((15, 100))
BER_result = []
CNR_result = []
e = np.zeros((60, 12))

for i in range(60):
    cF[i, 0] = i
    standard_signal[i, 0] = i
    standard_signal[i, 1] = 0
    standard_signal[i, 10] = 0
for i in range(60):
    j = i
    if j >= 50:
        standard_signal[i, 1] = 1
        standard_signal[i, 3] = 1
        j -= 50
    elif j >= 40:
        standard_signal[i, 1] = 1
        j -= 40
    elif j >= 30:
        standard_signal[i, 2] = 1
        standard_signal[i, 3] = 1
        j -= 30
    elif j >= 20:
        standard_signal[i, 2] = 1
        j -= 20
    elif j >= 10:
        standard_signal[i, 3] = 1
        j -= 10
    a[i] = bin(j)[2:]
    if len(a[i]) == 1:
        standard_signal[i, 4] = 0
        standard_signal[i, 5] = 0
        standard_signal[i, 6] = 0
        standard_signal[i, 7] = a[i]
    elif len(a[i]) == 2:
        standard_signal[i, 4] = 0
        standard_signal[i, 5] = 0
        standard_signal[i, 6] = a[i][0]
        standard_signal[i, 7] = a[i][1]
    elif len(a[i]) == 3:
        standard_signal[i, 4] = 0
        standard_signal[i, 5] = a[i][0]
        standard_signal[i, 6] = a[i][1]
        standard_signal[i, 7] = a[i][2]
    elif len(a[i]) == 4:
        standard_signal[i, 4] = a[i][0]
        standard_signal[i, 5] = a[i][1]
        standard_signal[i, 6] = a[i][2]
        standard_signal[i, 7] = a[i][3]
    if np.count_nonzero(standard_signal[i][1:] == 1) % 2 == 1:
        standard_signal[i, 8] = 1
standard_signal = np.where(standard_signal == 0, -1, standard_signal)
t = np.arange(12)
for i in range(100):
    for j in range(15):
        CNR = j

        Ef_val = math.sqrt(1/pow(10, CNR/10))
        for k in range(60):
            e[k] = np.random.normal(loc=0, scale=Ef_val, size=len(t))      # 配列e(60.12)に標準偏差std_devのノイズを生成
        noise_signal = standard_signal + e
        for k in range(60):
            for l in range(60):
                for m in range(8):
                    temp = noise_signal[k][m+1] * standard_signal[l][m+1]
                    cC[l] += temp
            if cC[k] != np.amax(cC):
                Error += 1
            # dfResult = np.inserdfdfResult, i, cC, axis=1)
            cC = np.zeros(60)
        BER[j, i] = Error
        Error = 0
print(BER)
print(np.mean(BER, axis=1))
b = np.sum(BER, axis=1)
c = b/6000
ax = plt.gca()
ax.set_yscale('log')
plt.grid(which="both")
plt.plot(c)

plt.show()
        # print('std_dev = {:.3g}'.format(std_dev))
        # print('BER = {:.3g}'.format(BER))
        # print('CNR = {:.2g}[dB]'.format(CNR))
        # print('-------------------------')
#
# zip_lists = zip(CNR_result, BER_result)
#     # 昇順でソート
# zip_sort = sorted(zip_lists)
#     # zipを解除
# CNR_result, BER_result = zip(*zip_sort)
# ax = plt.gca()
# ax.set_yscale('log')
# plt.scatter(CNR_result, BER_result)
# plt.grid(which="both")
# plt.title('Bit error rate characteristic', fontsize=18)
# plt.xlabel('C/N[dB]', fontsize=14)
# plt.ylabel('BER', fontsize=14)
# plt.xlim(0, 14)
# plt.ylim(0.0001, 1)
# plt.show()
#
# print('CNR = {}'.format(CNR_result))
# print('BER = {}'.format(BER_result))



# LINEに通知する関数

# if __name__ == '__main__':
#     message = "演算終了"
#     line_notify(message)
# fig = plt.figure()
# fig.savefig("Bit error rate characteristic.png")